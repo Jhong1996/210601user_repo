{
 "cells": [
  {
   "cell_type": "markdown",
   "metadata": {
    "collapsed": false
   },
   "source": [
    "# 飞桨常规赛：量子电路合成 - 6月第3名方案"
   ]
  },
  {
   "cell_type": "markdown",
   "metadata": {
    "collapsed": false
   },
   "source": [
    "### 比赛介绍\n",
    "本赛题由 “**2020百度之星·程序设计大赛**” 的决赛赛题改编而来，以期为更多开发者提供量子计算领域的学习交流机会。百度自 2017 年起发起了面向全球 AI 技术爱好者的深度学习算法竞赛——百度之星·开发者大赛，大赛的宗旨是为有创新力、专业性强、富有极客精神和团队合作精神的顶级开发者团队提供交流切磋、施展才能的舞台，并为参赛选手提供真实的数据集、深度学习平台飞桨（PaddlePaddle）、完整技术解决方案和一站式 AI 开发平台 AI Studio，降低广大开发者的 AI 学习门槛。2021 年的百度之星·开发者大赛，期待你的加入！\n",
    "\n",
    "高度发达的 A 星在一次异变中文明即将消失，A 星人将重要信息加密后发送到下一个面临同样异变的欠发达的 C 星，希望能帮助 C 星上的文明躲过这次浩劫。A 星文明高度发达，已经实现了量子计算，故而采用了量子电路来加密信息。C 星接收后深感无力，因为他们的文明只能实现小型的基础量子门，不足以解密该重要信息。此时他们想起了友好星球 B 星上的我们，或许能为他们带来一线生机。而在座的我们能否帮助 C 星文明解决这次危机？\n",
    "\n",
    "* 科学家分析，神秘信息是经由量子电路加密过的一张图片，我们使用给定的 2 量子比特电路和 3 量子比特电路便可能进行解密。\n",
    "* 为了不让 C 星坐以待毙，我们要将量子电路分解成 C 星可以实现的基础量子门，从而能帮助 C 星完成解密，完成史诗级的救援任务。\n",
    "  \n",
    "比赛详情页：[https://aistudio.baidu.com/aistudio/competition/detail/70](https://aistudio.baidu.com/aistudio/competition/detail/70)"
   ]
  },
  {
   "cell_type": "markdown",
   "metadata": {
    "collapsed": false
   },
   "source": [
    "### 赛题说明\n",
    "比赛包含六道题目，其中前四题为基础题 (满分分别为 1 分，2 分，3分，10 分)，第五题为进阶题 (满分为 25 分)，第六题为挑战题 (满分为 60 分)。选手的比赛最终成绩为六道题目得分总和 (精确到小数点后 4 位) \n",
    "\n",
    "* 第一题：单量子比特门近似（1 分）\n",
    "* 第二题：双量子比特门分解（2 分）\n",
    "* 第三题：三量子比特门分解（3 分）\n",
    "* 第四题：三量子比特门无结构分解（10 分）\n",
    "* 第五题：四量子比特门无结构分解（25 分）\n",
    "* 第六题：八量子比特门无结构分解（60 分）\n",
    "\n",
    "比赛使用 **量桨（Paddle Quantum）** 进行搭建量子电路结构，求解参数。\n",
    "\n",
    "量桨（Paddle Quantum）官网链接：[https://quantum.baidu.com](https://quantum.baidu.com)\n",
    "\n"
   ]
  },
  {
   "cell_type": "markdown",
   "metadata": {
    "collapsed": false
   },
   "source": [
    "### 准备工作"
   ]
  },
  {
   "cell_type": "code",
   "execution_count": 1,
   "metadata": {
    "collapsed": false
   },
   "outputs": [
    {
     "name": "stdout",
     "output_type": "stream",
     "text": [
      "Looking in indexes: https://mirror.baidu.com/pypi/simple/\n",
      "Requirement already satisfied: paddle-quantum in /opt/conda/envs/python35-paddle120-env/lib/python3.7/site-packages (2.1.0)\n",
      "Requirement already satisfied: interval in /opt/conda/envs/python35-paddle120-env/lib/python3.7/site-packages (from paddle-quantum) (1.0.0)\n",
      "Requirement already satisfied: scipy in /opt/conda/envs/python35-paddle120-env/lib/python3.7/site-packages (from paddle-quantum) (1.6.3)\n",
      "Requirement already satisfied: matplotlib in /opt/conda/envs/python35-paddle120-env/lib/python3.7/site-packages (from paddle-quantum) (2.2.3)\n",
      "Requirement already satisfied: tqdm in /opt/conda/envs/python35-paddle120-env/lib/python3.7/site-packages (from paddle-quantum) (4.36.1)\n",
      "Requirement already satisfied: paddlepaddle>=2.0.1 in /opt/conda/envs/python35-paddle120-env/lib/python3.7/site-packages (from paddle-quantum) (2.1.1)\n",
      "Requirement already satisfied: networkx>=2.5 in /opt/conda/envs/python35-paddle120-env/lib/python3.7/site-packages (from paddle-quantum) (2.5.1)\n",
      "Requirement already satisfied: numpy<1.23.0,>=1.16.5 in /opt/conda/envs/python35-paddle120-env/lib/python3.7/site-packages (from scipy->paddle-quantum) (1.20.3)\n",
      "Requirement already satisfied: pyparsing!=2.0.4,!=2.1.2,!=2.1.6,>=2.0.1 in /opt/conda/envs/python35-paddle120-env/lib/python3.7/site-packages (from matplotlib->paddle-quantum) (2.4.2)\n",
      "Requirement already satisfied: kiwisolver>=1.0.1 in /opt/conda/envs/python35-paddle120-env/lib/python3.7/site-packages (from matplotlib->paddle-quantum) (1.1.0)\n",
      "Requirement already satisfied: pytz in /opt/conda/envs/python35-paddle120-env/lib/python3.7/site-packages (from matplotlib->paddle-quantum) (2019.3)\n",
      "Requirement already satisfied: six>=1.10 in /opt/conda/envs/python35-paddle120-env/lib/python3.7/site-packages (from matplotlib->paddle-quantum) (1.15.0)\n",
      "Requirement already satisfied: cycler>=0.10 in /opt/conda/envs/python35-paddle120-env/lib/python3.7/site-packages (from matplotlib->paddle-quantum) (0.10.0)\n",
      "Requirement already satisfied: python-dateutil>=2.1 in /opt/conda/envs/python35-paddle120-env/lib/python3.7/site-packages (from matplotlib->paddle-quantum) (2.8.0)\n",
      "Requirement already satisfied: protobuf>=3.1.0 in /opt/conda/envs/python35-paddle120-env/lib/python3.7/site-packages (from paddlepaddle>=2.0.1->paddle-quantum) (3.14.0)\n",
      "Requirement already satisfied: astor in /opt/conda/envs/python35-paddle120-env/lib/python3.7/site-packages (from paddlepaddle>=2.0.1->paddle-quantum) (0.8.1)\n",
      "Requirement already satisfied: Pillow in /opt/conda/envs/python35-paddle120-env/lib/python3.7/site-packages (from paddlepaddle>=2.0.1->paddle-quantum) (7.1.2)\n",
      "Requirement already satisfied: requests>=2.20.0 in /opt/conda/envs/python35-paddle120-env/lib/python3.7/site-packages (from paddlepaddle>=2.0.1->paddle-quantum) (2.22.0)\n",
      "Requirement already satisfied: decorator==4.4.2 in /opt/conda/envs/python35-paddle120-env/lib/python3.7/site-packages (from paddlepaddle>=2.0.1->paddle-quantum) (4.4.2)\n",
      "Requirement already satisfied: gast>=0.3.3; platform_system != \"Windows\" in /opt/conda/envs/python35-paddle120-env/lib/python3.7/site-packages (from paddlepaddle>=2.0.1->paddle-quantum) (0.3.3)\n",
      "Requirement already satisfied: setuptools in /opt/conda/envs/python35-paddle120-env/lib/python3.7/site-packages (from kiwisolver>=1.0.1->matplotlib->paddle-quantum) (56.2.0)\n",
      "Requirement already satisfied: chardet<3.1.0,>=3.0.2 in /opt/conda/envs/python35-paddle120-env/lib/python3.7/site-packages (from requests>=2.20.0->paddlepaddle>=2.0.1->paddle-quantum) (3.0.4)\n",
      "Requirement already satisfied: certifi>=2017.4.17 in /opt/conda/envs/python35-paddle120-env/lib/python3.7/site-packages (from requests>=2.20.0->paddlepaddle>=2.0.1->paddle-quantum) (2019.9.11)\n",
      "Requirement already satisfied: idna<2.9,>=2.5 in /opt/conda/envs/python35-paddle120-env/lib/python3.7/site-packages (from requests>=2.20.0->paddlepaddle>=2.0.1->paddle-quantum) (2.8)\n",
      "Requirement already satisfied: urllib3!=1.25.0,!=1.25.1,<1.26,>=1.21.1 in /opt/conda/envs/python35-paddle120-env/lib/python3.7/site-packages (from requests>=2.20.0->paddlepaddle>=2.0.1->paddle-quantum) (1.25.6)\n"
     ]
    }
   ],
   "source": [
    "# 环境安装\r\n",
    "!pip install paddle-quantum"
   ]
  },
  {
   "cell_type": "code",
   "execution_count": 2,
   "metadata": {
    "collapsed": false
   },
   "outputs": [
    {
     "name": "stderr",
     "output_type": "stream",
     "text": [
      "/opt/conda/envs/python35-paddle120-env/lib/python3.7/site-packages/matplotlib/__init__.py:107: DeprecationWarning: Using or importing the ABCs from 'collections' instead of from 'collections.abc' is deprecated, and in 3.8 it will stop working\n",
      "  from collections import MutableMapping\n",
      "/opt/conda/envs/python35-paddle120-env/lib/python3.7/site-packages/matplotlib/rcsetup.py:20: DeprecationWarning: Using or importing the ABCs from 'collections' instead of from 'collections.abc' is deprecated, and in 3.8 it will stop working\n",
      "  from collections import Iterable, Mapping\n",
      "/opt/conda/envs/python35-paddle120-env/lib/python3.7/site-packages/matplotlib/colors.py:53: DeprecationWarning: Using or importing the ABCs from 'collections' instead of from 'collections.abc' is deprecated, and in 3.8 it will stop working\n",
      "  from collections import Sized\n"
     ]
    }
   ],
   "source": [
    "# 导入必要的包\n",
    "import numpy as np\n",
    "import paddle\n",
    "import os\n",
    "from paddle_quantum.circuit import UAnsatz"
   ]
  },
  {
   "cell_type": "markdown",
   "metadata": {
    "collapsed": false
   },
   "source": [
    "### 解压数据集\n",
    "数据集解压后的文件夹是中文名，重命名为英文名"
   ]
  },
  {
   "cell_type": "code",
   "execution_count": null,
   "metadata": {
    "collapsed": false
   },
   "outputs": [],
   "source": [
    "# 解压数据集\r\n",
    "!unzip -oq /home/aistudio/data/data71784/飞桨常规赛：量子电路合成.zip -d ./data/\r\n",
    "# 重命名数据集文件夹\r\n",
    "!mv ./data/飞桨常规赛：量子电路合成 ./data/dataset"
   ]
  },
  {
   "cell_type": "code",
   "execution_count": 10,
   "metadata": {
    "collapsed": false
   },
   "outputs": [],
   "source": [
    "import numpy as np\r\n",
    "import paddle\r\n",
    "from paddle_quantum.circuit import UAnsatz\r\n",
    "\r\n",
    "# 定义量子电路类\r\n",
    "class MyCircuit(UAnsatz):\r\n",
    "\r\n",
    "    def gate_fidelity(self, target):\r\n",
    "        a = self.U\r\n",
    "        b = target\r\n",
    "        a = paddle.cast(a, 'float64')\r\n",
    "        a.stop_gradient = False\r\n",
    "        b = paddle.cast(b, 'float64')\r\n",
    "        b.stop_gradient = False\r\n",
    "        c = paddle.fluid.layers.matmul(a, b, transpose_y=True)\r\n",
    "        trace = paddle.trace(c)\r\n",
    "        return paddle.abs(trace) / 2**self.n\r\n",
    "    \r\n",
    "    @property\r\n",
    "    def complexity(self):\r\n",
    "        c = 0\r\n",
    "        for g, _, _ in self._UAnsatz__history:\r\n",
    "            if g == 'u':\r\n",
    "                c += 1\r\n",
    "            elif g == 'CNOT':\r\n",
    "                c += 8\r\n",
    "        return c\r\n",
    "    \r\n",
    "    def output(self, path):\r\n",
    "        history = []\r\n",
    "        for g, w, p in self._UAnsatz__history:\r\n",
    "            if g == 'ry':\r\n",
    "                theta = p[0]\r\n",
    "                if hasattr(p[0], 'numpy'):\r\n",
    "                    theta = p[0].numpy()[0]                    \r\n",
    "                history.append('R %d %f\\n' % (w[0], np.mod(theta, 2 * np.pi)))\r\n",
    "            elif g == 'CNOT':\r\n",
    "                history.append('C %d %d\\n' % tuple(w))\r\n",
    "            else:\r\n",
    "                raise OSError('未知的门`%s`' % g)\r\n",
    "        with open(path, 'w') as f:\r\n",
    "                for i in history:\r\n",
    "                    f.write(i)\r\n",
    "# 定义网络\r\n",
    "class Net(paddle.nn.Layer):\r\n",
    "    def __init__(self, n, p, dtype=\"float64\"):\r\n",
    "        super(Net, self).__init__()\r\n",
    "        self.n = n\r\n",
    "        self.theta = self.create_parameter(shape=[p], \r\n",
    "                                           default_initializer=paddle.nn.initializer.Uniform(low=-np.pi/2, high=np.pi/2),\r\n",
    "                                           dtype=dtype, is_bias=False)\r\n",
    "    def forward(self):\r\n",
    "        cir = circuit(self.theta)\r\n",
    "        loss = 1 - cir.gate_fidelity(target_tensor)\r\n",
    "        return loss, cir\r\n",
    "\r\n",
    "# 定义优化器\r\n",
    "class Optimizer:\r\n",
    "    def __init__(self, net, learning_rate):\r\n",
    "        scheduler = paddle.optimizer.lr.CosineAnnealingDecay(learning_rate=LR, T_max=100, eta_min=1e-3, last_epoch=99, verbose=False)\r\n",
    "        opt = paddle.optimizer.Adam(learning_rate=scheduler, parameters=net.parameters())\r\n",
    "        self.net = net\r\n",
    "        self.scheduler = scheduler\r\n",
    "        self.opt = opt\r\n",
    "\r\n",
    "    def train(self, max_iters=600, log_iter=50, threshold=1e-8, display=True):\r\n",
    "        last = 1\r\n",
    "        for itr in range(1, max_iters + 1):\r\n",
    "            loss, cir = self.net()\r\n",
    "            loss.backward()\r\n",
    "            self.opt.minimize(loss)\r\n",
    "            self.opt.clear_grad()\r\n",
    "            self.scheduler.step()\r\n",
    "            if itr % log_iter == 0:\r\n",
    "                l = loss.numpy()[0]\r\n",
    "                if display:\r\n",
    "                    print(\"iter:\", \"%3d\" % itr, \"  loss:\", \"%.4f\" % l, \"%.2e\" % (l - last))\r\n",
    "                if abs(l - last) < threshold:\r\n",
    "                    break\r\n",
    "                last = l\r\n",
    "        return last\r\n",
    "\r\n",
    "# 定义可变量子电路类\r\n",
    "class VariableCircuit(MyCircuit):\r\n",
    "    def __init__(self, n, theta, controls=[]):\r\n",
    "        super().__init__(n)\r\n",
    "        self.controls = controls\r\n",
    "        self.init(theta)\r\n",
    "\r\n",
    "    def init(self, theta):\r\n",
    "        offset = 0\r\n",
    "        for i in range(self.n):\r\n",
    "            self.ry(theta[offset+i], i)\r\n",
    "        offset += self.n\r\n",
    "\r\n",
    "        for a, b in self.controls:\r\n",
    "            self.cnot([a, b])\r\n",
    "            self.ry(theta[offset+0], a)\r\n",
    "            self.ry(theta[offset+1], b)\r\n",
    "            offset += 2\r\n",
    "        self.params_size = offset"
   ]
  },
  {
   "cell_type": "markdown",
   "metadata": {
    "collapsed": false
   },
   "source": [
    "![](https://ai-studio-static-online.cdn.bcebos.com/89dd7e77cedf401983dcb43d931892743c2d8756a86c485985924457e9dcd7b4)\n",
    "\n",
    "```\n",
    "import numpy as np\n",
    "import paddle\n",
    "from paddle_quantum.circuit import UAnsatz\n",
    "\n",
    "# 设置角度参数 theta = pi\n",
    "theta = np.array([np.pi])\n",
    "    \n",
    "# 我们需要将 Numpy array 转换成 Paddle 中的 Tensor\n",
    "theta = paddle.to_tensor(theta)\n",
    "\n",
    "# 设置计算所需的量子比特数量\n",
    "num_qubits = 1\n",
    "\n",
    "# 初始化我们的单比特量子电路\n",
    "cir = UAnsatz(num_qubits)\n",
    "\n",
    "# 在第一个量子比特(第0号量子比特)的位置上施加一个 Rx 旋转门， 角度为 pi\n",
    "which_qubit = 0\n",
    "cir.rx(theta, which_qubit)\n",
    "\n",
    "# 打印出这个量子门\n",
    "# 转换成 numpy \n",
    "print('量子门的矩阵表达式为：')\n",
    "print(cir.U.numpy())\n",
    "```\n"
   ]
  },
  {
   "cell_type": "markdown",
   "metadata": {
    "collapsed": false
   },
   "source": [
    "![](https://ai-studio-static-online.cdn.bcebos.com/3eadc1397b554440a9d2601eacdebbc244317a12c14d47bca5135e308dbeba4a)\n",
    "\n",
    "\n",
    "```\n",
    "import numpy as np\n",
    "import paddle\n",
    "from paddle_quantum.circuit import UAnsatz\n",
    "\n",
    "# 设置角度参数 theta \n",
    "theta = np.full([4], np.pi)\n",
    "    \n",
    "# 我们需要将 Numpy array 转换成 Paddle 中的 Tensor\n",
    "theta = paddle.to_tensor(theta)\n",
    "\n",
    "# 初始化量子电路\n",
    "num_qubits = 2\n",
    "cir = UAnsatz(num_qubits)\n",
    "\n",
    "# 添加单比特旋转门\n",
    "cir.ry(theta[0], 0)\n",
    "cir.ry(theta[1], 1)\n",
    "\n",
    "# 添加两比特门\n",
    "cir.cnot([0, 1])\n",
    "\n",
    "# 添加单比特旋转门\n",
    "cir.ry(theta[2], 0)\n",
    "cir.ry(theta[3], 1)\n",
    "\n",
    "print('图中量子神经网络 U(theta=pi) 的矩阵表达式是:')\n",
    "print(cir.U.numpy().real)\n",
    "```"
   ]
  },
  {
   "cell_type": "markdown",
   "metadata": {
    "collapsed": false
   },
   "source": [
    "![](https://ai-studio-static-online.cdn.bcebos.com/6e9f5d5d98a34f298e1961481163820c7001a85e8823418e94ed73d59c057c15)\n",
    "\n",
    "根据量浆官网中的[快速入门](https://qml.baidu.com/quick-start/quantum-computing-fundamentals.html#3-%E5%8D%95%E9%87%8F%E5%AD%90%E6%AF%94%E7%89%B9%E9%97%A8)，熟悉单量子比特门相关内容进行求解"
   ]
  },
  {
   "cell_type": "code",
   "execution_count": 11,
   "metadata": {
    "collapsed": false
   },
   "outputs": [],
   "source": [
    "n = 1 #单量子比特电路\r\n",
    "target = 1 / 2**0.5 * np.array([[1, -1], [1, 1]]) #目标酉矩阵\r\n",
    "target_tensor = paddle.to_tensor(target) #转化为tensor\r\n",
    "LR = 0.1 #学习率\r\n",
    "ITR = 1000 #最大迭代次数\r\n",
    "\r\n",
    "#定义电路结构\r\n",
    "def circuit(theta):\r\n",
    "    cir = MyCircuit(n)\r\n",
    "    cir.ry(theta[0], 0) #单个旋转门\r\n",
    "    return cir"
   ]
  },
  {
   "cell_type": "code",
   "execution_count": 12,
   "metadata": {
    "collapsed": false
   },
   "outputs": [
    {
     "name": "stderr",
     "output_type": "stream",
     "text": [
      "/opt/conda/envs/python35-paddle120-env/lib/python3.7/site-packages/paddle/fluid/framework.py:706: DeprecationWarning: `np.bool` is a deprecated alias for the builtin `bool`. To silence this warning, use `bool` by itself. Doing this will not modify any behavior and is safe. If you specifically wanted the numpy scalar type, use `np.bool_` here.\n",
      "Deprecated in NumPy 1.20; for more details and guidance: https://numpy.org/devdocs/release/1.20.0-notes.html#deprecations\n",
      "  elif dtype == np.bool:\n",
      "/opt/conda/envs/python35-paddle120-env/lib/python3.7/site-packages/paddle/tensor/creation.py:125: DeprecationWarning: `np.object` is a deprecated alias for the builtin `object`. To silence this warning, use `object` by itself. Doing this will not modify any behavior and is safe. \n",
      "Deprecated in NumPy 1.20; for more details and guidance: https://numpy.org/devdocs/release/1.20.0-notes.html#deprecations\n",
      "  if data.dtype == np.object:\n"
     ]
    },
    {
     "name": "stdout",
     "output_type": "stream",
     "text": [
      "iter:  50   loss: 0.0065 -9.93e-01\n",
      "iter: 100   loss: 0.0001 -6.38e-03\n",
      "iter: 150   loss: 0.0000 -1.34e-04\n",
      "iter: 200   loss: 0.0000 -6.24e-07\n",
      "iter: 250   loss: 0.0000 -4.48e-10\n",
      "iter: 300   loss: 0.0000 -2.12e-11\n",
      "iter: 350   loss: 0.0000 -5.60e-14\n",
      "iter: 400   loss: 0.0000 -8.88e-16\n",
      "优化后的参数 theta:\n",
      " [1.57079632]\n"
     ]
    }
   ],
   "source": [
    "net = Net(n, 1) #定义网络\r\n",
    "opt = Optimizer(net, LR) #定义自动优化器\r\n",
    "opt.train(ITR, threshold=1e-15) #优化参数\r\n",
    "\r\n",
    "theta_opt = net.theta.numpy() #优化好的参数\r\n",
    "print(\"优化后的参数 theta:\\n\", theta_opt)\r\n",
    "\r\n",
    "cir = circuit(net.theta) #将优化好的参数加载到量子电路中\r\n",
    "cir.output('Question_1_Answer.txt') #输出结果到文件"
   ]
  },
  {
   "cell_type": "markdown",
   "metadata": {
    "collapsed": false
   },
   "source": [
    "![](https://ai-studio-static-online.cdn.bcebos.com/d952c29d2ecd440bb9ff5bc030cd03ffcf4d52ca08004496ba1be5897b5f61cb)\n"
   ]
  },
  {
   "cell_type": "code",
   "execution_count": null,
   "metadata": {
    "collapsed": false
   },
   "outputs": [],
   "source": [
    "n = 2\r\n",
    "target = np.loadtxt('/home/aistudio/data/dataset/Question_2_Unitary.txt') #读取目标实数酉矩阵U\r\n",
    "target_tensor = paddle.to_tensor(target)\r\n",
    "LR = 0.05\r\n",
    "ITR = 1000\r\n",
    "\r\n",
    "def circuit(theta):\r\n",
    "    cir = MyCircuit(n)\r\n",
    "    cir.ry(theta[0], 0)\r\n",
    "    cir.ry(theta[1], 1)\r\n",
    "    cir.cnot([0, 1])\r\n",
    "    cir.ry(theta[2], 0)\r\n",
    "    cir.ry(theta[3], 1)\r\n",
    "    return cir"
   ]
  },
  {
   "cell_type": "code",
   "execution_count": null,
   "metadata": {
    "collapsed": false
   },
   "outputs": [
    {
     "name": "stdout",
     "output_type": "stream",
     "text": [
      "iter:  50   loss: 0.4692 -5.31e-01\n",
      "iter: 100   loss: 0.0034 -4.66e-01\n",
      "iter: 150   loss: 0.0000 -3.34e-03\n",
      "iter: 200   loss: 0.0000 -1.82e-05\n",
      "iter: 250   loss: 0.0000 -2.35e-06\n",
      "iter: 300   loss: 0.0000 -8.36e-08\n",
      "iter: 350   loss: 0.0000 -1.36e-09\n",
      "iter: 400   loss: 0.0000 -2.64e-12\n",
      "iter: 450   loss: 0.0000 -1.92e-13\n",
      "iter: 500   loss: 0.0000 -3.33e-16\n",
      "优化后的参数 theta:\n",
      " [-0.43582512  0.79511961 -2.79500593  0.42428991]\n"
     ]
    }
   ],
   "source": [
    "net = Net(n, 4)\r\n",
    "opt = Optimizer(net, LR)\r\n",
    "opt.train(ITR, threshold=1e-15)\r\n",
    "\r\n",
    "theta_opt = net.theta.numpy()\r\n",
    "print(\"优化后的参数 theta:\\n\", theta_opt)\r\n",
    "\r\n",
    "cir = circuit(net.theta)\r\n",
    "cir.output('Question_2_Answer.txt')"
   ]
  },
  {
   "cell_type": "markdown",
   "metadata": {
    "collapsed": false
   },
   "source": [
    "![](https://ai-studio-static-online.cdn.bcebos.com/ec50e9da79dc4cf29419be08acd1e2aa1545175836c54d84bd57a3c24af29f89)\n"
   ]
  },
  {
   "cell_type": "code",
   "execution_count": null,
   "metadata": {
    "collapsed": false
   },
   "outputs": [],
   "source": [
    "n = 3\r\n",
    "target = np.loadtxt('/home/aistudio/data/dataset/Question_3_Unitary.txt')\r\n",
    "target_tensor = paddle.to_tensor(target)\r\n",
    "LR = 0.02\r\n",
    "ITR = 1000\r\n",
    "\r\n",
    "def circuit(theta):\r\n",
    "    # 初始化 n 个量子比特的量子电路\r\n",
    "    cir = MyCircuit(n)\r\n",
    "    cir.ry(theta[0], 0)\r\n",
    "    cir.ry(theta[1], 1)\r\n",
    "    cir.ry(theta[2], 2)\r\n",
    "    cir.cnot([0, 1])\r\n",
    "    cir.cnot([1, 2])\r\n",
    "    cir.ry(theta[3], 0)\r\n",
    "    cir.ry(theta[4], 2)\r\n",
    "    return cir"
   ]
  },
  {
   "cell_type": "code",
   "execution_count": null,
   "metadata": {
    "collapsed": false
   },
   "outputs": [
    {
     "name": "stdout",
     "output_type": "stream",
     "text": [
      "iter:  50   loss: 0.7453 -2.55e-01\n",
      "iter: 100   loss: 0.2235 -5.22e-01\n",
      "iter: 150   loss: 0.0351 -1.88e-01\n",
      "iter: 200   loss: 0.0204 -1.48e-02\n",
      "iter: 250   loss: 0.0120 -8.40e-03\n",
      "iter: 300   loss: 0.0007 -1.12e-02\n",
      "iter: 350   loss: 0.0000 -7.26e-04\n",
      "iter: 400   loss: 0.0000 -9.48e-06\n",
      "iter: 450   loss: 0.0000 -3.29e-06\n",
      "iter: 500   loss: 0.0000 -2.76e-06\n",
      "iter: 550   loss: 0.0000 -2.54e-08\n",
      "iter: 600   loss: 0.0000 -6.69e-11\n",
      "iter: 650   loss: 0.0000 -2.95e-11\n",
      "iter: 700   loss: 0.0000 -1.66e-11\n",
      "iter: 750   loss: 0.0000 1.33e-15\n",
      "iter: 800   loss: 0.0000 -9.99e-16\n",
      "优化后的参数 theta:\n",
      " [-2.30239562 -1.78154508 -0.33809543 -1.46190544  1.98867992]\n"
     ]
    }
   ],
   "source": [
    "net = Net(n, 5)\r\n",
    "opt = Optimizer(net, LR)\r\n",
    "opt.train(ITR, threshold=1e-15)\r\n",
    "\r\n",
    "theta_opt = net.theta.numpy()\r\n",
    "print(\"优化后的参数 theta:\\n\", theta_opt)\r\n",
    "\r\n",
    "cir = circuit(net.theta)\r\n",
    "cir.output('Question_3_Answer.txt')"
   ]
  },
  {
   "cell_type": "markdown",
   "metadata": {
    "collapsed": false
   },
   "source": [
    "![](https://ai-studio-static-online.cdn.bcebos.com/412a7f084c3b439782b2ef8c5d9b6f984b02b9b8c4ee4296b39941a175fa62ee)\n"
   ]
  },
  {
   "cell_type": "code",
   "execution_count": null,
   "metadata": {
    "collapsed": false
   },
   "outputs": [],
   "source": [
    "n = 3\r\n",
    "target = np.loadtxt('/home/aistudio/data/dataset/Question_4_Unitary.txt')\r\n",
    "target_tensor = paddle.to_tensor(target)\r\n",
    "LR = 0.1\r\n",
    "ITR = 5000"
   ]
  },
  {
   "cell_type": "code",
   "execution_count": null,
   "metadata": {
    "collapsed": false
   },
   "outputs": [
    {
     "name": "stdout",
     "output_type": "stream",
     "text": [
      "40\n",
      "iter:  50   loss: 0.4544 -5.46e-01\n",
      "iter: 100   loss: 0.3331 -1.21e-01\n",
      "iter: 150   loss: 0.3317 -1.42e-03\n",
      "iter: 200   loss: 0.3317 -6.83e-06\n"
     ]
    }
   ],
   "source": [
    "def circuit(theta):\r\n",
    "    # conts = [(1,2), (1,2), (0,1), (0,2), (0,1)]\r\n",
    "    conts = [(1,2), (1,2),(1,2),(0,2), (0,1)]\r\n",
    "    cir = VariableCircuit(n, theta, conts)\r\n",
    "    return cir\r\n",
    "\r\n",
    "net = Net(n, 15)\r\n",
    "cir = circuit(net.theta)\r\n",
    "print(cir.complexity)\r\n",
    "opt = Optimizer(net, LR)\r\n",
    "opt.train(ITR, threshold=1e-20)"
   ]
  },
  {
   "cell_type": "code",
   "execution_count": null,
   "metadata": {
    "collapsed": false
   },
   "outputs": [
    {
     "name": "stdout",
     "output_type": "stream",
     "text": [
      "优化后的参数 theta:\n",
      " [0.34226911 1.49999981 0.4999999  0.77098571 0.22901438 1.92208134\n",
      " 1.39719538 0.34248397 1.50000001 1.50000006 0.69368954 1.21107806\n",
      " 1.7403326  1.97489432 0.26339706]\n"
     ]
    }
   ],
   "source": [
    "theta_opt = net.theta.numpy()\r\n",
    "theta_opt = np.mod(theta_opt, 2 * np.pi)\r\n",
    "print(\"优化后的参数 theta:\\n\", theta_opt / np.pi)\r\n",
    "\r\n",
    "cir = circuit(net.theta)\r\n",
    "cir.output('Question_4_Answer.txt')"
   ]
  },
  {
   "cell_type": "markdown",
   "metadata": {
    "collapsed": false
   },
   "source": [
    "![](https://ai-studio-static-online.cdn.bcebos.com/93767e288e02417393405d6376e63a485c89871270374cf2af8deb0121366ce1)\n"
   ]
  },
  {
   "cell_type": "code",
   "execution_count": null,
   "metadata": {
    "collapsed": false
   },
   "outputs": [],
   "source": [
    "n = 4\r\n",
    "target = np.loadtxt('/home/aistudio/data/dataset/Question_5_Unitary.txt')\r\n",
    "target_tensor = paddle.to_tensor(target)\r\n",
    "LR = 0.1\r\n",
    "ITR = 1000\r\n",
    "\r\n",
    "def circuit(theta):\r\n",
    "    conts = [(1, 2)] #开头(1, 2)和结尾(3, 0)为尝试过程中最优结构的开头和结尾\r\n",
    "    for i in range(7):\r\n",
    "        for j in range(i%2, n, 2):\r\n",
    "            conts.append((j%n, (j+1)%n))\r\n",
    "    conts.append((3, 0))\r\n",
    "    cir = VariableCircuit(n, theta, conts)\r\n",
    "    return cir"
   ]
  },
  {
   "cell_type": "code",
   "execution_count": null,
   "metadata": {
    "collapsed": false
   },
   "outputs": [
    {
     "name": "stdout",
     "output_type": "stream",
     "text": [
      "iter:  50   loss: 0.5351 -4.65e-01\n",
      "iter: 100   loss: 0.4121 -1.23e-01\n",
      "iter: 150   loss: 0.4038 -8.28e-03\n",
      "iter: 200   loss: 0.4016 -2.17e-03\n",
      "iter: 250   loss: 0.3978 -3.86e-03\n",
      "iter: 300   loss: 0.3492 -4.86e-02\n",
      "iter: 350   loss: 0.3282 -2.10e-02\n"
     ]
    }
   ],
   "source": [
    "while 1: #循环运行直至满足及格条件\r\n",
    "    net = Net(n, 36)\r\n",
    "    opt = Optimizer(net, LR)\r\n",
    "    l = opt.train(ITR)\r\n",
    "    if l < 0.3:\r\n",
    "        break"
   ]
  },
  {
   "cell_type": "code",
   "execution_count": null,
   "metadata": {
    "collapsed": false
   },
   "outputs": [],
   "source": [
    "theta_opt = net.theta.numpy()\r\n",
    "print(\"优化后的参数 theta:\\n\", theta_opt)\r\n",
    "\r\n",
    "cir = circuit(net.theta)\r\n",
    "cir.output('Question_5_Answer.txt')"
   ]
  },
  {
   "cell_type": "code",
   "execution_count": null,
   "metadata": {
    "collapsed": false
   },
   "outputs": [],
   "source": [
    "theta_opt = net.theta.numpy()\r\n",
    "print(\"优化后的参数 theta:\\n\", theta_opt)\r\n",
    "\r\n",
    "cir = circuit(net.theta)\r\n",
    "cir.output('Question_6_Answer.txt')"
   ]
  },
  {
   "cell_type": "markdown",
   "metadata": {
    "collapsed": false
   },
   "source": [
    "### 压缩文件"
   ]
  },
  {
   "cell_type": "code",
   "execution_count": null,
   "metadata": {
    "collapsed": false
   },
   "outputs": [
    {
     "name": "stdout",
     "output_type": "stream",
     "text": [
      "updating: Question_1_Answer.txt (stored 0%)\r\n",
      "updating: Question_2_Answer.txt (deflated 12%)\r\n",
      "updating: Question_3_Answer.txt (deflated 21%)\r\n",
      "updating: Question_4_Answer.txt (deflated 49%)\r\n",
      "updating: Question_5_Answer.txt (deflated 58%)\r\n",
      "updating: Question_6_Answer.txt (deflated 58%)\r\n"
     ]
    }
   ],
   "source": [
    "!zip Answer.zip Question_?_Answer.txt"
   ]
  },
  {
   "cell_type": "markdown",
   "metadata": {
    "collapsed": false
   },
   "source": [
    "### 参考项目\n",
    "\n",
    "量浆官网快速入门：[https://qml.baidu.com/quick-start/overview.html](https://qml.baidu.com/quick-start/quantum-computing-fundamentals.html#3-%E5%8D%95%E9%87%8F%E5%AD%90%E6%AF%94%E7%89%B9%E9%97%A8)\n",
    "\n",
    "量浆官网教程：[https://qml.baidu.com/tutorials/overview.html](https://qml.baidu.com/tutorials/overview.html)\n",
    "\n",
    "飞桨常规赛：量子电路合成 5月第1名方案（作者：Mr.郑先生_）：[https://aistudio.baidu.com/aistudio/projectdetail/2025686?channel=0&channelType=0&shared=1](https://aistudio.baidu.com/aistudio/projectdetail/2025686?channel=0&channelType=0&shared=1)\n",
    "\n",
    "飞桨常规赛：量子电路合成 4月第1名方案（作者：bnpzsx）：[https://aistudio.baidu.com/aistudio/projectdetail/1932455?channel=0&channelType=0&shared=1](https://aistudio.baidu.com/aistudio/projectdetail/1932455?channel=0&channelType=0&shared=1)"
   ]
  }
 ],
 "metadata": {
  "kernelspec": {
   "display_name": "PaddlePaddle 2.1.0 (Python 3.5)",
   "language": "python",
   "name": "py35-paddle1.2.0"
  },
  "language_info": {
   "codemirror_mode": {
    "name": "ipython",
    "version": 3
   },
   "file_extension": ".py",
   "mimetype": "text/x-python",
   "name": "python",
   "nbconvert_exporter": "python",
   "pygments_lexer": "ipython3",
   "version": "3.7.4"
  }
 },
 "nbformat": 4,
 "nbformat_minor": 1
}
